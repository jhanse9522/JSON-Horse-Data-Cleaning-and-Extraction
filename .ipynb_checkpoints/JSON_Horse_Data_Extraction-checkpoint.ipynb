{
 "cells": [
  {
   "cell_type": "markdown",
   "metadata": {},
   "source": [
    "# Overview:\n",
    "\n",
    "## The purpose of this project is to work with semi-structured data and nested dictionaries using loading JSON format files into python, to perform processing and extraction tasks and some initial EDA and punt out select data into another data structure format (CSV).\n",
    "\n",
    "### Details Below:\n",
    "\n"
   ]
  },
  {
   "cell_type": "code",
   "execution_count": 9,
   "metadata": {},
   "outputs": [],
   "source": [
    "### Goal: \n",
    "\n",
    "#   -Explore length and data type\n",
    "#   -Clean missing values by checking membership of keys in record using built function\n",
    "#   -Count horse records by birth year using frequency dictionary \n",
    "#   -Write out the entire contents of the horses json data file into a CSV\n",
    "#.   with missing values filled in with 'missing' and the fields with wikidata ids changed to from the URL to just the ID.           \n",
    "#    \n",
    "#  Headers are:                                          \n",
    "#    horse, horseLabel, mother, father, birthyear, genderLabel "
   ]
  },
  {
   "cell_type": "code",
   "execution_count": 10,
   "metadata": {},
   "outputs": [],
   "source": [
    "import json                                                                \n",
    "import csv                                                                 \n",
    "                                                                           \n",
    "def get_id_from_url(url_string):                                           \n",
    "    '''pass this a string with a wikidata url                              \n",
    "       it will return just the id from that url'''                         \n",
    "    if url_string == 'missing':                                            \n",
    "        wikidataid= 'missing'                                              \n",
    "    else:                                                                  \n",
    "        parts = url_string.split('/')                                      \n",
    "        wikidataid = parts[-1]                                             \n",
    "    return wikidataid                                                      \n",
    "                                                                           \n",
    "def clean_missing(key, record):                                            \n",
    "    '''function will check if a provided key is inside a record            \n",
    "    and return either that value or the string value of missing.'''        \n",
    "    if key in record:                                                      \n",
    "        result = record[key]                                               \n",
    "    else:                                                                  \n",
    "        result = 'missing'                                                 \n",
    "    return result                                                          "
   ]
  },
  {
   "cell_type": "code",
   "execution_count": 3,
   "metadata": {},
   "outputs": [
    {
     "data": {
      "text/plain": [
       "'                                                            \\n{                                                              \\n\\t\"horse\": \"http://www.wikidata.org/entity/Q1001792\",        \\n\\t\"horseLabel\": \"Makybe Diva\",                               \\n\\t\"mother\": \"http://www.wikidata.org/entity/Q14949904\",      \\n\\t\"father\": \"http://www.wikidata.org/entity/Q5263956\",       \\n\\t\"birthyear\": \"1999\",                                       \\n\\t\"genderLabel\": \"female organism\"                           \\n}'"
      ]
     },
     "execution_count": 3,
     "metadata": {},
     "output_type": "execute_result"
    }
   ],
   "source": [
    "# here's an example of a single horse entry for reference:     \n",
    "                                                               \n",
    "\"\"\"                                                            \n",
    "{                                                              \n",
    "\t\"horse\": \"http://www.wikidata.org/entity/Q1001792\",        \n",
    "\t\"horseLabel\": \"Makybe Diva\",                               \n",
    "\t\"mother\": \"http://www.wikidata.org/entity/Q14949904\",      \n",
    "\t\"father\": \"http://www.wikidata.org/entity/Q5263956\",       \n",
    "\t\"birthyear\": \"1999\",                                       \n",
    "\t\"genderLabel\": \"female organism\"                           \n",
    "}\"\"\"                                                           "
   ]
  },
  {
   "cell_type": "code",
   "execution_count": 11,
   "metadata": {},
   "outputs": [],
   "source": [
    "###        Notes: \n",
    "\n",
    "####       Run select values - horse, mother, father - through the get_id_from_url function to get just the ID out.                                       \n",
    "####       Run all values through the clean_missing function to check for missing values.                                                                         \n",
    "####       Create outfile using csv writer                          \n",
    "####       Write out the headers                                    \n",
    "####       Loop over the data list                                  \n",
    "####       Extract target info from records                         \n",
    "####       Clean info                                           \n",
    "####       Write out the processed data rows.                       "
   ]
  },
  {
   "cell_type": "code",
   "execution_count": 12,
   "metadata": {},
   "outputs": [],
   "source": [
    "# EDA questions                                                                                                                  \n",
    "                                                                                                                                 \n",
    "# 1: How many horses were born in 1999?                                                                                          \n",
    "# 2: What is the range of birth years for all the horses included in this dataset?                                               \n",
    "# 3: What percentage of horses were missing father values in this dataset compared to the proportion missing mother values?      \n",
    "                                                                                                                                 \n",
    "                                                                                                                                 "
   ]
  },
  {
   "cell_type": "code",
   "execution_count": 14,
   "metadata": {},
   "outputs": [],
   "source": [
    "infile = open('source_data_horses_sample.json', 'r', encoding = 'utf-8')                    \n",
    "data = json.load(infile)                                                                    \n",
    "infile.close()                                                                              \n",
    "                                                                                            "
   ]
  },
  {
   "cell_type": "code",
   "execution_count": 15,
   "metadata": {},
   "outputs": [
    {
     "name": "stdout",
     "output_type": "stream",
     "text": [
      "length: 1000\n",
      "data type: <class 'list'>\n"
     ]
    }
   ],
   "source": [
    " # length and data type of the data variable    \n",
    "                                                \n",
    "                                                \n",
    "print(\"length:\", len(data))                     \n",
    "                                                \n",
    "print(\"data type:\", type(data))                 \n",
    "                                                "
   ]
  },
  {
   "cell_type": "code",
   "execution_count": 6,
   "metadata": {},
   "outputs": [
    {
     "name": "stdout",
     "output_type": "stream",
     "text": [
      "{'1999': 25, '1986': 18, '1992': 19, 'missing': 35, '1684': 1, '1975': 12, '1978': 10, '1960': 7, '1987': 19, '1955': 9, '1956': 8, '2003': 40, '1966': 3, '1994': 25, '2004': 32, '1971': 12, '1991': 28, '2001': 34, '1988': 12, '1998': 26, '1997': 30, '1989': 17, '2005': 42, '1996': 21, '1993': 28, '2006': 36, '1990': 17, '1950': 4, '1972': 7, '2009': 12, '2002': 42, '1920': 1, '1867': 1, '1748': 1, '1977': 10, '1981': 13, '1970': 9, '1879': 1, '1807': 1, '1890': 1, '1969': 16, '2000': 26, '1995': 32, '1985': 17, '1976': 4, '1964': 3, '1983': 14, '1959': 1, '1928': 2, '1935': 2, '1921': 1, '1979': 13, '2007': 25, '1984': 16, '2008': 14, '2010': 8, '1915': 1, '1937': 1, '1967': 5, '1929': 2, '1944': 2, '1948': 7, '1974': 6, '1947': 2, '1980': 10, '1787': 1, '1961': 3, '1962': 7, '1982': 10, '1932': 4, '1926': 2, '1957': 8, '1968': 4, '1954': 3, '1946': 5, '1931': 2, '1952': 3, '1901': 1, '1941': 1, '1973': 7, '1930': 2, '1909': 1, '1949': 4, '1953': 3, '1965': 5, '1933': 1, '1936': 2, '1939': 1, '1908': 1, '1934': 1, '1951': 3, '1927': 2, '1764': 1, '1898': 1, '1784': 1, '1924': 1, '1958': 1, '1919': 1, '1963': 4, '1902': 1, '1732': 1, '1945': 1, '1905': 1}\n"
     ]
    }
   ],
   "source": [
    "# Goal: count the number of horses born in each year, print the dictionary.                          \n",
    "#Info: Loop through the records, accessing the birth year.                                           \n",
    "#Then use a dictionary counting pattern to count the years.                                          \n",
    "#For horse records without birth years, checked for membership and set value to missing.             \n",
    "                                                                                                     \n",
    "year_count = {}                                                                                      \n",
    "for record in data:                                                                                  \n",
    "                                                                                                     \n",
    "    year = clean_missing(\"birthyear\", record)                                                        \n",
    "    if year in year_count:                                                                           \n",
    "        year_count[year] +=1                                                                         \n",
    "                                                                                                     \n",
    "    else:                                                                                            \n",
    "        year_count[year] = 1                                                                         \n",
    "print(year_count)                                                                                    "
   ]
  },
  {
   "cell_type": "code",
   "execution_count": 16,
   "metadata": {},
   "outputs": [],
   "source": [
    "# Goal: write the counted birth years dictionary to a CSV file, and called           \n",
    "#       this file 'yearcounts.csv'                                                   \n",
    "# Notes:                                                                             \n",
    "#       Created outfile object, passed it to the csv.writer() function.              \n",
    "#       Wrote out the headers: year, count                                           \n",
    "#       Loop through the counted dictionary via .items().                            \n",
    "#       Rows contain the birth year and the count.                                   \n",
    "                                                                                     \n",
    "outfile = open('yearcounts.csv', 'w', encoding = 'utf-8')                            \n",
    "                                                                                     \n",
    "csvout = csv.writer(outfile)                                                         \n",
    "                                                                                     \n",
    "csvout.writerow(['year', 'count'])                                                   \n",
    "                                                                                     \n",
    "for pair in year_count.items():                                                      \n",
    "    year = pair[0]                                                                   \n",
    "    count = pair[1]                                                                  \n",
    "    row = [year, count]                                                              \n",
    "\n",
    "    csvout.writerow(row)                                                             \n",
    "                                                                                     "
   ]
  },
  {
   "cell_type": "markdown",
   "metadata": {},
   "source": []
  },
  {
   "cell_type": "code",
   "execution_count": null,
   "metadata": {},
   "outputs": [],
   "source": []
  }
 ],
 "metadata": {
  "kernelspec": {
   "display_name": "Python 3",
   "language": "python",
   "name": "python3"
  },
  "language_info": {
   "codemirror_mode": {
    "name": "ipython",
    "version": 3
   },
   "file_extension": ".py",
   "mimetype": "text/x-python",
   "name": "python",
   "nbconvert_exporter": "python",
   "pygments_lexer": "ipython3",
   "version": "3.7.4"
  }
 },
 "nbformat": 4,
 "nbformat_minor": 2
}
